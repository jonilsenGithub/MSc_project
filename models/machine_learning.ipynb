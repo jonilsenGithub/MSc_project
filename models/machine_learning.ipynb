{
 "cells": [
  {
   "cell_type": "markdown",
   "metadata": {},
   "source": [
    "# Machine Learning"
   ]
  },
  {
   "cell_type": "code",
   "execution_count": 1,
   "metadata": {},
   "outputs": [],
   "source": [
    "import numpy as np\n",
    "import pandas as pd"
   ]
  },
  {
   "cell_type": "code",
   "execution_count": 2,
   "metadata": {},
   "outputs": [],
   "source": [
    "df = pd.read_csv('keystroke.csv')"
   ]
  },
  {
   "cell_type": "code",
   "execution_count": 3,
   "metadata": {},
   "outputs": [],
   "source": [
    "df = df.drop(['sessionIndex','rep'],axis=1)"
   ]
  },
  {
   "cell_type": "code",
   "execution_count": 4,
   "metadata": {},
   "outputs": [],
   "source": [
    "df['subject'] = df['subject'].apply(lambda x: x[2:])"
   ]
  },
  {
   "cell_type": "markdown",
   "metadata": {},
   "source": [
    "## Splitting data"
   ]
  },
  {
   "cell_type": "code",
   "execution_count": 6,
   "metadata": {},
   "outputs": [],
   "source": [
    "from sklearn.model_selection import train_test_split"
   ]
  },
  {
   "cell_type": "code",
   "execution_count": 7,
   "metadata": {},
   "outputs": [],
   "source": [
    "X = df.drop('subject',axis=1)\n",
    "y = df['subject']"
   ]
  },
  {
   "cell_type": "code",
   "execution_count": 8,
   "metadata": {},
   "outputs": [],
   "source": [
    "X_train,X_test,y_train,y_test = train_test_split(X,y,test_size=0.3,random_state=42)"
   ]
  },
  {
   "cell_type": "markdown",
   "metadata": {},
   "source": [
    "## Preprocessing"
   ]
  },
  {
   "cell_type": "code",
   "execution_count": 9,
   "metadata": {},
   "outputs": [],
   "source": [
    "from sklearn.preprocessing import QuantileTransformer"
   ]
  },
  {
   "cell_type": "code",
   "execution_count": 10,
   "metadata": {},
   "outputs": [],
   "source": [
    "scaler = QuantileTransformer(output_distribution='normal')"
   ]
  },
  {
   "cell_type": "code",
   "execution_count": 11,
   "metadata": {},
   "outputs": [],
   "source": [
    "X_train = scaler.fit_transform(X_train)"
   ]
  },
  {
   "cell_type": "code",
   "execution_count": 12,
   "metadata": {},
   "outputs": [],
   "source": [
    "X_test = scaler.transform(X_test)"
   ]
  },
  {
   "cell_type": "markdown",
   "metadata": {},
   "source": [
    "## K Nearest Neighbor"
   ]
  },
  {
   "cell_type": "markdown",
   "metadata": {},
   "source": [
    "## Fitting and predicting"
   ]
  },
  {
   "cell_type": "code",
   "execution_count": 13,
   "metadata": {},
   "outputs": [],
   "source": [
    "from sklearn.neighbors import KNeighborsClassifier"
   ]
  },
  {
   "cell_type": "code",
   "execution_count": 14,
   "metadata": {},
   "outputs": [],
   "source": [
    "knn = KNeighborsClassifier(n_neighbors=5,p=1,algorithm='auto',weights='distance')"
   ]
  },
  {
   "cell_type": "code",
   "execution_count": 15,
   "metadata": {},
   "outputs": [
    {
     "data": {
      "text/plain": [
       "KNeighborsClassifier(algorithm='auto', leaf_size=30, metric='minkowski',\n",
       "                     metric_params=None, n_jobs=None, n_neighbors=5, p=1,\n",
       "                     weights='distance')"
      ]
     },
     "execution_count": 15,
     "metadata": {},
     "output_type": "execute_result"
    }
   ],
   "source": [
    "knn.fit(X_train,y_train)"
   ]
  },
  {
   "cell_type": "code",
   "execution_count": 16,
   "metadata": {},
   "outputs": [],
   "source": [
    "knn_pred = knn.predict(X_test)"
   ]
  },
  {
   "cell_type": "markdown",
   "metadata": {},
   "source": [
    "## Evaluating model"
   ]
  },
  {
   "cell_type": "code",
   "execution_count": 17,
   "metadata": {},
   "outputs": [],
   "source": [
    "from sklearn.metrics import classification_report"
   ]
  },
  {
   "cell_type": "code",
   "execution_count": 18,
   "metadata": {},
   "outputs": [
    {
     "name": "stdout",
     "output_type": "stream",
     "text": [
      "              precision    recall  f1-score   support\n",
      "\n",
      "          02       0.76      0.86      0.81       116\n",
      "          03       0.87      0.83      0.85       107\n",
      "          04       0.87      0.88      0.87       113\n",
      "          05       0.89      0.96      0.92       121\n",
      "          07       0.81      0.89      0.85        99\n",
      "          08       0.91      0.85      0.88       124\n",
      "          10       0.99      0.99      0.99       135\n",
      "          11       0.98      0.88      0.93       116\n",
      "          12       0.98      0.93      0.96       129\n",
      "          13       0.93      0.90      0.92       114\n",
      "          15       0.97      0.89      0.93       122\n",
      "          16       0.81      0.99      0.89       112\n",
      "          17       0.97      0.96      0.97       118\n",
      "          18       0.99      0.79      0.88       115\n",
      "          19       0.98      0.98      0.98       122\n",
      "          20       0.97      0.80      0.88       124\n",
      "          21       0.91      0.93      0.92       127\n",
      "          22       0.98      1.00      0.99       115\n",
      "          24       0.93      0.98      0.96       116\n",
      "          25       0.87      0.98      0.92       125\n",
      "          26       0.75      0.98      0.85       135\n",
      "          27       0.95      0.98      0.96       125\n",
      "          28       0.98      0.98      0.98       129\n",
      "          29       0.85      0.88      0.87       113\n",
      "          30       0.88      1.00      0.93       121\n",
      "          31       0.89      0.80      0.84       126\n",
      "          32       0.87      0.70      0.77       110\n",
      "          33       0.98      0.98      0.98       111\n",
      "          34       0.92      0.88      0.90       104\n",
      "          35       0.98      0.96      0.97       124\n",
      "          36       1.00      1.00      1.00       124\n",
      "          37       0.88      0.92      0.90       110\n",
      "          38       0.89      0.97      0.93       118\n",
      "          39       0.96      0.97      0.96       121\n",
      "          40       0.91      0.98      0.94       123\n",
      "          41       0.94      0.84      0.89       139\n",
      "          42       0.97      0.99      0.98       142\n",
      "          43       0.97      1.00      0.99       113\n",
      "          44       0.95      1.00      0.98       120\n",
      "          46       0.95      0.89      0.92       143\n",
      "          47       0.86      0.94      0.90       109\n",
      "          48       0.86      0.91      0.89       117\n",
      "          49       0.90      1.00      0.95       113\n",
      "          50       0.89      0.89      0.89       121\n",
      "          51       0.97      0.86      0.92       125\n",
      "          52       1.00      0.98      0.99       127\n",
      "          53       0.98      0.99      0.99       116\n",
      "          54       0.91      0.90      0.91       117\n",
      "          55       0.99      0.94      0.96        98\n",
      "          56       0.96      0.84      0.90       128\n",
      "          57       0.97      0.80      0.88       128\n",
      "\n",
      "    accuracy                           0.92      6120\n",
      "   macro avg       0.92      0.92      0.92      6120\n",
      "weighted avg       0.93      0.92      0.92      6120\n",
      "\n"
     ]
    }
   ],
   "source": [
    "print(classification_report(y_test,knn_pred))"
   ]
  },
  {
   "cell_type": "markdown",
   "metadata": {},
   "source": [
    "## Grid search"
   ]
  },
  {
   "cell_type": "code",
   "execution_count": 19,
   "metadata": {},
   "outputs": [],
   "source": [
    "from sklearn.model_selection import GridSearchCV"
   ]
  },
  {
   "cell_type": "code",
   "execution_count": 20,
   "metadata": {},
   "outputs": [],
   "source": [
    "test_params = {'n_neighbors':[1,5,10,50,100],'weights':['uniform','distance'],\n",
    "               'algorithm':['auto','ball_tree','kd_tree','brute'],'p':[1,2]}"
   ]
  },
  {
   "cell_type": "code",
   "execution_count": 21,
   "metadata": {},
   "outputs": [],
   "source": [
    "grid = GridSearchCV(KNeighborsClassifier(),test_params,verbose=1)"
   ]
  },
  {
   "cell_type": "code",
   "execution_count": 22,
   "metadata": {
    "scrolled": true
   },
   "outputs": [
    {
     "name": "stderr",
     "output_type": "stream",
     "text": [
      "/opt/anaconda3/lib/python3.7/site-packages/sklearn/model_selection/_split.py:1978: FutureWarning: The default value of cv will change from 3 to 5 in version 0.22. Specify it explicitly to silence this warning.\n",
      "  warnings.warn(CV_WARNING, FutureWarning)\n",
      "[Parallel(n_jobs=1)]: Using backend SequentialBackend with 1 concurrent workers.\n"
     ]
    },
    {
     "name": "stdout",
     "output_type": "stream",
     "text": [
      "Fitting 3 folds for each of 80 candidates, totalling 240 fits\n"
     ]
    },
    {
     "name": "stderr",
     "output_type": "stream",
     "text": [
      "[Parallel(n_jobs=1)]: Done 240 out of 240 | elapsed:  8.5min finished\n"
     ]
    },
    {
     "data": {
      "text/plain": [
       "GridSearchCV(cv='warn', error_score='raise-deprecating',\n",
       "             estimator=KNeighborsClassifier(algorithm='auto', leaf_size=30,\n",
       "                                            metric='minkowski',\n",
       "                                            metric_params=None, n_jobs=None,\n",
       "                                            n_neighbors=5, p=2,\n",
       "                                            weights='uniform'),\n",
       "             iid='warn', n_jobs=None,\n",
       "             param_grid={'algorithm': ['auto', 'ball_tree', 'kd_tree', 'brute'],\n",
       "                         'n_neighbors': [1, 5, 10, 50, 100], 'p': [1, 2],\n",
       "                         'weights': ['uniform', 'distance']},\n",
       "             pre_dispatch='2*n_jobs', refit=True, return_train_score=False,\n",
       "             scoring=None, verbose=1)"
      ]
     },
     "execution_count": 22,
     "metadata": {},
     "output_type": "execute_result"
    }
   ],
   "source": [
    "grid.fit(X_train,y_train)"
   ]
  },
  {
   "cell_type": "code",
   "execution_count": 23,
   "metadata": {},
   "outputs": [
    {
     "data": {
      "text/plain": [
       "{'algorithm': 'auto', 'n_neighbors': 5, 'p': 1, 'weights': 'distance'}"
      ]
     },
     "execution_count": 23,
     "metadata": {},
     "output_type": "execute_result"
    }
   ],
   "source": [
    "grid.best_params_"
   ]
  },
  {
   "cell_type": "code",
   "execution_count": 24,
   "metadata": {},
   "outputs": [],
   "source": [
    "grid_pred = grid.predict(X_test)"
   ]
  },
  {
   "cell_type": "code",
   "execution_count": 25,
   "metadata": {},
   "outputs": [],
   "source": [
    "from sklearn.metrics import classification_report"
   ]
  },
  {
   "cell_type": "code",
   "execution_count": 26,
   "metadata": {},
   "outputs": [
    {
     "name": "stdout",
     "output_type": "stream",
     "text": [
      "              precision    recall  f1-score   support\n",
      "\n",
      "          02       0.76      0.86      0.81       116\n",
      "          03       0.87      0.83      0.85       107\n",
      "          04       0.87      0.88      0.87       113\n",
      "          05       0.89      0.96      0.92       121\n",
      "          07       0.81      0.89      0.85        99\n",
      "          08       0.91      0.85      0.88       124\n",
      "          10       0.99      0.99      0.99       135\n",
      "          11       0.98      0.88      0.93       116\n",
      "          12       0.98      0.93      0.96       129\n",
      "          13       0.93      0.90      0.92       114\n",
      "          15       0.97      0.89      0.93       122\n",
      "          16       0.81      0.99      0.89       112\n",
      "          17       0.97      0.96      0.97       118\n",
      "          18       0.99      0.79      0.88       115\n",
      "          19       0.98      0.98      0.98       122\n",
      "          20       0.97      0.80      0.88       124\n",
      "          21       0.91      0.93      0.92       127\n",
      "          22       0.98      1.00      0.99       115\n",
      "          24       0.93      0.98      0.96       116\n",
      "          25       0.87      0.98      0.92       125\n",
      "          26       0.75      0.98      0.85       135\n",
      "          27       0.95      0.98      0.96       125\n",
      "          28       0.98      0.98      0.98       129\n",
      "          29       0.85      0.88      0.87       113\n",
      "          30       0.88      1.00      0.93       121\n",
      "          31       0.89      0.80      0.84       126\n",
      "          32       0.87      0.70      0.77       110\n",
      "          33       0.98      0.98      0.98       111\n",
      "          34       0.92      0.88      0.90       104\n",
      "          35       0.98      0.96      0.97       124\n",
      "          36       1.00      1.00      1.00       124\n",
      "          37       0.88      0.92      0.90       110\n",
      "          38       0.89      0.97      0.93       118\n",
      "          39       0.96      0.97      0.96       121\n",
      "          40       0.91      0.98      0.94       123\n",
      "          41       0.94      0.84      0.89       139\n",
      "          42       0.97      0.99      0.98       142\n",
      "          43       0.97      1.00      0.99       113\n",
      "          44       0.95      1.00      0.98       120\n",
      "          46       0.95      0.89      0.92       143\n",
      "          47       0.86      0.94      0.90       109\n",
      "          48       0.86      0.91      0.89       117\n",
      "          49       0.90      1.00      0.95       113\n",
      "          50       0.89      0.89      0.89       121\n",
      "          51       0.97      0.86      0.92       125\n",
      "          52       1.00      0.98      0.99       127\n",
      "          53       0.98      0.99      0.99       116\n",
      "          54       0.91      0.90      0.91       117\n",
      "          55       0.99      0.94      0.96        98\n",
      "          56       0.96      0.84      0.90       128\n",
      "          57       0.97      0.80      0.88       128\n",
      "\n",
      "    accuracy                           0.92      6120\n",
      "   macro avg       0.92      0.92      0.92      6120\n",
      "weighted avg       0.93      0.92      0.92      6120\n",
      "\n"
     ]
    }
   ],
   "source": [
    "print(classification_report(y_test,grid_pred))"
   ]
  },
  {
   "cell_type": "markdown",
   "metadata": {},
   "source": [
    "## Cross Validation"
   ]
  },
  {
   "cell_type": "code",
   "execution_count": 27,
   "metadata": {},
   "outputs": [
    {
     "name": "stdout",
     "output_type": "stream",
     "text": [
      "0.8142647058823531\n"
     ]
    }
   ],
   "source": [
    "from sklearn.model_selection import cross_val_score\n",
    "\n",
    "scores = cross_val_score(KNeighborsClassifier(algorithm='auto',n_neighbors=5,p=1,weights='distance'), X, y, cv=20)\n",
    "print(scores.mean())"
   ]
  },
  {
   "cell_type": "markdown",
   "metadata": {},
   "source": [
    "## Support Vector Classifier"
   ]
  },
  {
   "cell_type": "markdown",
   "metadata": {},
   "source": [
    "## Fitting and predicting"
   ]
  },
  {
   "cell_type": "code",
   "execution_count": 28,
   "metadata": {},
   "outputs": [],
   "source": [
    "from sklearn.svm import SVC"
   ]
  },
  {
   "cell_type": "code",
   "execution_count": 29,
   "metadata": {},
   "outputs": [],
   "source": [
    "svc = SVC()"
   ]
  },
  {
   "cell_type": "code",
   "execution_count": 30,
   "metadata": {},
   "outputs": [
    {
     "name": "stderr",
     "output_type": "stream",
     "text": [
      "/opt/anaconda3/lib/python3.7/site-packages/sklearn/svm/base.py:193: FutureWarning: The default value of gamma will change from 'auto' to 'scale' in version 0.22 to account better for unscaled features. Set gamma explicitly to 'auto' or 'scale' to avoid this warning.\n",
      "  \"avoid this warning.\", FutureWarning)\n"
     ]
    },
    {
     "data": {
      "text/plain": [
       "SVC(C=1.0, cache_size=200, class_weight=None, coef0=0.0,\n",
       "    decision_function_shape='ovr', degree=3, gamma='auto_deprecated',\n",
       "    kernel='rbf', max_iter=-1, probability=False, random_state=None,\n",
       "    shrinking=True, tol=0.001, verbose=False)"
      ]
     },
     "execution_count": 30,
     "metadata": {},
     "output_type": "execute_result"
    }
   ],
   "source": [
    "svc.fit(X_train,y_train)"
   ]
  },
  {
   "cell_type": "code",
   "execution_count": 31,
   "metadata": {},
   "outputs": [],
   "source": [
    "svc_pred = svc.predict(X_test)"
   ]
  },
  {
   "cell_type": "markdown",
   "metadata": {},
   "source": [
    "## Evaluating model"
   ]
  },
  {
   "cell_type": "code",
   "execution_count": 32,
   "metadata": {},
   "outputs": [],
   "source": [
    "from sklearn.metrics import classification_report"
   ]
  },
  {
   "cell_type": "code",
   "execution_count": 33,
   "metadata": {},
   "outputs": [
    {
     "name": "stdout",
     "output_type": "stream",
     "text": [
      "              precision    recall  f1-score   support\n",
      "\n",
      "          02       0.76      0.87      0.81       116\n",
      "          03       0.89      0.90      0.89       107\n",
      "          04       0.90      0.91      0.91       113\n",
      "          05       0.97      0.95      0.96       121\n",
      "          07       0.85      0.90      0.87        99\n",
      "          08       0.96      0.84      0.90       124\n",
      "          10       0.96      0.99      0.97       135\n",
      "          11       0.92      0.93      0.93       116\n",
      "          12       0.97      0.89      0.93       129\n",
      "          13       0.94      0.95      0.94       114\n",
      "          15       0.93      0.94      0.94       122\n",
      "          16       0.89      0.98      0.94       112\n",
      "          17       0.99      0.97      0.98       118\n",
      "          18       0.95      0.85      0.90       115\n",
      "          19       1.00      0.97      0.98       122\n",
      "          20       0.90      0.90      0.90       124\n",
      "          21       0.89      0.91      0.90       127\n",
      "          22       1.00      1.00      1.00       115\n",
      "          24       0.94      1.00      0.97       116\n",
      "          25       0.97      0.95      0.96       125\n",
      "          26       0.88      0.95      0.91       135\n",
      "          27       0.95      0.95      0.95       125\n",
      "          28       0.96      0.98      0.97       129\n",
      "          29       0.92      0.88      0.90       113\n",
      "          30       0.92      0.99      0.96       121\n",
      "          31       0.85      0.79      0.82       126\n",
      "          32       0.73      0.70      0.71       110\n",
      "          33       0.98      0.99      0.99       111\n",
      "          34       0.95      0.88      0.92       104\n",
      "          35       0.94      0.97      0.96       124\n",
      "          36       1.00      1.00      1.00       124\n",
      "          37       0.89      0.95      0.92       110\n",
      "          38       0.91      0.94      0.93       118\n",
      "          39       0.97      0.95      0.96       121\n",
      "          40       0.90      0.98      0.94       123\n",
      "          41       0.95      0.92      0.93       139\n",
      "          42       0.99      0.96      0.98       142\n",
      "          43       0.99      1.00      1.00       113\n",
      "          44       0.96      0.99      0.98       120\n",
      "          46       0.95      0.88      0.92       143\n",
      "          47       0.81      0.95      0.88       109\n",
      "          48       0.91      0.93      0.92       117\n",
      "          49       0.93      0.99      0.96       113\n",
      "          50       0.87      0.88      0.87       121\n",
      "          51       0.93      0.89      0.91       125\n",
      "          52       1.00      0.97      0.98       127\n",
      "          53       0.97      0.97      0.97       116\n",
      "          54       0.86      0.87      0.87       117\n",
      "          55       0.98      0.97      0.97        98\n",
      "          56       0.97      0.85      0.91       128\n",
      "          57       0.95      0.83      0.89       128\n",
      "\n",
      "    accuracy                           0.93      6120\n",
      "   macro avg       0.93      0.93      0.93      6120\n",
      "weighted avg       0.93      0.93      0.93      6120\n",
      "\n"
     ]
    }
   ],
   "source": [
    "print(classification_report(y_test,svc_pred))"
   ]
  },
  {
   "cell_type": "markdown",
   "metadata": {},
   "source": [
    "## Grid search"
   ]
  },
  {
   "cell_type": "code",
   "execution_count": 34,
   "metadata": {},
   "outputs": [],
   "source": [
    "from sklearn.model_selection import GridSearchCV"
   ]
  },
  {
   "cell_type": "code",
   "execution_count": 35,
   "metadata": {},
   "outputs": [],
   "source": [
    "test_params = {'C':[0.1,1,50,100],'gamma':[1,0.1,0.01,0.001],'kernel':['rbf','linear','poly']}"
   ]
  },
  {
   "cell_type": "code",
   "execution_count": 36,
   "metadata": {},
   "outputs": [],
   "source": [
    "grid = GridSearchCV(SVC(),test_params,verbose=1)"
   ]
  },
  {
   "cell_type": "code",
   "execution_count": 37,
   "metadata": {},
   "outputs": [
    {
     "name": "stderr",
     "output_type": "stream",
     "text": [
      "/opt/anaconda3/lib/python3.7/site-packages/sklearn/model_selection/_split.py:1978: FutureWarning: The default value of cv will change from 3 to 5 in version 0.22. Specify it explicitly to silence this warning.\n",
      "  warnings.warn(CV_WARNING, FutureWarning)\n",
      "[Parallel(n_jobs=1)]: Using backend SequentialBackend with 1 concurrent workers.\n"
     ]
    },
    {
     "name": "stdout",
     "output_type": "stream",
     "text": [
      "Fitting 3 folds for each of 48 candidates, totalling 144 fits\n"
     ]
    },
    {
     "name": "stderr",
     "output_type": "stream",
     "text": [
      "[Parallel(n_jobs=1)]: Done 144 out of 144 | elapsed: 14.2min finished\n"
     ]
    },
    {
     "data": {
      "text/plain": [
       "GridSearchCV(cv='warn', error_score='raise-deprecating',\n",
       "             estimator=SVC(C=1.0, cache_size=200, class_weight=None, coef0=0.0,\n",
       "                           decision_function_shape='ovr', degree=3,\n",
       "                           gamma='auto_deprecated', kernel='rbf', max_iter=-1,\n",
       "                           probability=False, random_state=None, shrinking=True,\n",
       "                           tol=0.001, verbose=False),\n",
       "             iid='warn', n_jobs=None,\n",
       "             param_grid={'C': [0.1, 1, 50, 100], 'gamma': [1, 0.1, 0.01, 0.001],\n",
       "                         'kernel': ['rbf', 'linear', 'poly']},\n",
       "             pre_dispatch='2*n_jobs', refit=True, return_train_score=False,\n",
       "             scoring=None, verbose=1)"
      ]
     },
     "execution_count": 37,
     "metadata": {},
     "output_type": "execute_result"
    }
   ],
   "source": [
    "grid.fit(X_train,y_train)"
   ]
  },
  {
   "cell_type": "code",
   "execution_count": 38,
   "metadata": {},
   "outputs": [
    {
     "data": {
      "text/plain": [
       "{'C': 50, 'gamma': 0.1, 'kernel': 'rbf'}"
      ]
     },
     "execution_count": 38,
     "metadata": {},
     "output_type": "execute_result"
    }
   ],
   "source": [
    "grid.best_params_"
   ]
  },
  {
   "cell_type": "code",
   "execution_count": 39,
   "metadata": {},
   "outputs": [],
   "source": [
    "grid_pred = grid.predict(X_test)"
   ]
  },
  {
   "cell_type": "code",
   "execution_count": 40,
   "metadata": {},
   "outputs": [],
   "source": [
    "from sklearn.metrics import classification_report"
   ]
  },
  {
   "cell_type": "code",
   "execution_count": 41,
   "metadata": {},
   "outputs": [
    {
     "name": "stdout",
     "output_type": "stream",
     "text": [
      "              precision    recall  f1-score   support\n",
      "\n",
      "          02       0.85      0.90      0.87       116\n",
      "          03       0.90      0.90      0.90       107\n",
      "          04       0.93      0.93      0.93       113\n",
      "          05       0.97      0.95      0.96       121\n",
      "          07       0.85      0.88      0.87        99\n",
      "          08       0.97      0.90      0.93       124\n",
      "          10       0.97      0.97      0.97       135\n",
      "          11       0.93      0.91      0.92       116\n",
      "          12       0.97      0.91      0.94       129\n",
      "          13       0.97      0.94      0.96       114\n",
      "          15       0.86      0.96      0.91       122\n",
      "          16       0.93      0.98      0.96       112\n",
      "          17       1.00      0.97      0.98       118\n",
      "          18       0.94      0.86      0.90       115\n",
      "          19       0.99      0.98      0.98       122\n",
      "          20       0.80      0.95      0.87       124\n",
      "          21       0.91      0.91      0.91       127\n",
      "          22       1.00      1.00      1.00       115\n",
      "          24       0.97      0.99      0.98       116\n",
      "          25       0.99      0.95      0.97       125\n",
      "          26       0.91      0.96      0.93       135\n",
      "          27       0.99      0.98      0.98       125\n",
      "          28       0.99      0.98      0.98       129\n",
      "          29       0.92      0.87      0.89       113\n",
      "          30       0.95      0.98      0.97       121\n",
      "          31       0.93      0.83      0.88       126\n",
      "          32       0.67      0.85      0.75       110\n",
      "          33       0.97      0.98      0.98       111\n",
      "          34       0.89      0.94      0.92       104\n",
      "          35       0.98      0.98      0.98       124\n",
      "          36       1.00      1.00      1.00       124\n",
      "          37       0.91      0.95      0.93       110\n",
      "          38       0.92      0.93      0.93       118\n",
      "          39       0.98      0.95      0.97       121\n",
      "          40       0.86      0.98      0.92       123\n",
      "          41       0.94      0.91      0.93       139\n",
      "          42       1.00      0.97      0.99       142\n",
      "          43       0.99      1.00      1.00       113\n",
      "          44       0.98      0.98      0.98       120\n",
      "          46       0.96      0.89      0.92       143\n",
      "          47       0.82      0.94      0.88       109\n",
      "          48       0.93      0.91      0.92       117\n",
      "          49       0.97      0.98      0.97       113\n",
      "          50       0.89      0.90      0.89       121\n",
      "          51       0.93      0.90      0.91       125\n",
      "          52       1.00      0.94      0.97       127\n",
      "          53       0.97      0.97      0.97       116\n",
      "          54       0.93      0.85      0.89       117\n",
      "          55       1.00      0.96      0.98        98\n",
      "          56       0.98      0.87      0.92       128\n",
      "          57       0.95      0.88      0.91       128\n",
      "\n",
      "    accuracy                           0.94      6120\n",
      "   macro avg       0.94      0.94      0.94      6120\n",
      "weighted avg       0.94      0.94      0.94      6120\n",
      "\n"
     ]
    }
   ],
   "source": [
    "print(classification_report(y_test,grid_pred))"
   ]
  },
  {
   "cell_type": "code",
   "execution_count": null,
   "metadata": {},
   "outputs": [],
   "source": []
  },
  {
   "cell_type": "markdown",
   "metadata": {},
   "source": [
    "## Cross validation"
   ]
  },
  {
   "cell_type": "code",
   "execution_count": 42,
   "metadata": {},
   "outputs": [
    {
     "name": "stdout",
     "output_type": "stream",
     "text": [
      "0.8478921568627451\n"
     ]
    }
   ],
   "source": [
    "from sklearn.model_selection import cross_val_score\n",
    "\n",
    "scores = cross_val_score(SVC(C=50,gamma=0.1, kernel='rbf'), X, y, cv=20)\n",
    "print(scores.mean())"
   ]
  },
  {
   "cell_type": "code",
   "execution_count": null,
   "metadata": {},
   "outputs": [],
   "source": []
  }
 ],
 "metadata": {
  "kernelspec": {
   "display_name": "Python 3",
   "language": "python",
   "name": "python3"
  },
  "language_info": {
   "codemirror_mode": {
    "name": "ipython",
    "version": 3
   },
   "file_extension": ".py",
   "mimetype": "text/x-python",
   "name": "python",
   "nbconvert_exporter": "python",
   "pygments_lexer": "ipython3",
   "version": "3.7.4"
  }
 },
 "nbformat": 4,
 "nbformat_minor": 2
}
